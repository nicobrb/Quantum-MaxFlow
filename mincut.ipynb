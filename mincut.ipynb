{
 "nbformat": 4,
 "nbformat_minor": 0,
 "metadata": {
  "colab": {
   "provenance": []
  },
  "kernelspec": {
   "name": "python3",
   "language": "python",
   "display_name": "Python 3 (ipykernel)"
  },
  "language_info": {
   "name": "python"
  }
 },
 "cells": [
  {
   "cell_type": "code",
   "source": [
    "!python --version"
   ],
   "metadata": {
    "colab": {
     "base_uri": "https://localhost:8080/"
    },
    "id": "6VqWP6V7ek6X",
    "outputId": "932f5862-bc99-4151-a906-070512a5264f",
    "ExecuteTime": {
     "end_time": "2023-07-23T10:19:02.199794600Z",
     "start_time": "2023-07-23T10:19:02.134355200Z"
    }
   },
   "execution_count": 2,
   "outputs": [
    {
     "name": "stdout",
     "output_type": "stream",
     "text": [
      "Python 3.11.0\n"
     ]
    }
   ]
  },
  {
   "cell_type": "code",
   "source": [
    "from pyqubo import *\n",
    "from neal import SimulatedAnnealingSampler\n",
    "import time\n",
    "# from dwave.system import LeapHybridSampler\n",
    "import dimod\n",
    "from tqdm import tqdm\n",
    "import random\n",
    "from multiprocessing import Pool\n",
    "import networkx as nx\n",
    "\n",
    "import os\n",
    "from fnmatch import fnmatch\n",
    "import time\n",
    "import pandas as pd"
   ],
   "metadata": {
    "id": "_FFhO4Cp_SxX",
    "ExecuteTime": {
     "end_time": "2023-07-23T10:19:05.069047Z",
     "start_time": "2023-07-23T10:19:03.656045800Z"
    }
   },
   "execution_count": 3,
   "outputs": []
  },
  {
   "cell_type": "code",
   "source": [
    "def load_graph(path, prob):\n",
    "    g = nx.DiGraph()\n",
    "    s = None\n",
    "    t = None\n",
    "    with open(path) as f:\n",
    "        for line in f:\n",
    "            if line.startswith('p'):\n",
    "                num_nodes = int(line.split(' ')[2])\n",
    "                nodes = {x + 1 for x in range(num_nodes)}\n",
    "                for n in nodes:\n",
    "                    g.add_node(n)\n",
    "            elif line.startswith('a'):\n",
    "                vals = [int(x) for x in line.split(' ')[1:]]\n",
    "                if (vals[2] > 0) and ((vals[0] == s or vals[1] == t) or (random.uniform(0, 1) >= prob)):\n",
    "                    g.add_edge(vals[0], vals[1], capacity=vals[2])\n",
    "            elif line.startswith('n'):\n",
    "                line = line.strip().split(' ')\n",
    "                if line[2] == 's':\n",
    "                    s = int(line[1])\n",
    "                elif line[2] == 't':\n",
    "                    t = int(line[1])\n",
    "    return g, s, t"
   ],
   "metadata": {
    "id": "U4RdXMi__m-3",
    "ExecuteTime": {
     "end_time": "2023-07-23T10:19:07.766800800Z",
     "start_time": "2023-07-23T10:19:07.744273500Z"
    }
   },
   "execution_count": 4,
   "outputs": []
  },
  {
   "cell_type": "code",
   "source": [
    "def get_max_flow_from_cut_edges(graph, sample, var_name):\n",
    "    cut_edges = {key: value for key, value in sample[0].items() if key.startswith(var_name) and value == 1}\n",
    "    edges = set()\n",
    "    for e in cut_edges:\n",
    "        parts = e.split('_')\n",
    "        edges.add((int(parts[1]), int(parts[2])))\n",
    "    return sum(graph[i][j]['capacity'] for i, j in edges)"
   ],
   "metadata": {
    "id": "5vJejYVu_vLF",
    "ExecuteTime": {
     "end_time": "2023-07-23T10:19:11.625166400Z",
     "start_time": "2023-07-23T10:19:11.615611400Z"
    }
   },
   "execution_count": 5,
   "outputs": []
  },
  {
   "cell_type": "code",
   "source": [
    "paths = []\n",
    "import os\n",
    "\n",
    "os.getcwd()\n",
    "for path, subdirs, files in os.walk('data/'):\n",
    "    paths.extend(os.path.join(path, name) for name in files if fnmatch(name, '*.max'))\n",
    "\n",
    "graph_path = paths[10]\n",
    "\n",
    "print(graph_path)\n",
    "graph, source, target = load_graph(graph_path, 0.99999999999)\n",
    "print(len(graph.edges()))\n",
    "start_time = time.time()\n",
    "lagrange = Placeholder('L')\n",
    "# obj = 0\n",
    "# omega_vars = {(i, j): Binary(f'omega_{i}_{j}') for i, j in graph.edges}\n",
    "# pi_vars = {n: Binary(f'pi_{n}') for n in graph.nodes}\n",
    "obj = Constraint((Binary(f'pi_{target}') - Binary(f'pi_{source}') - 1) ** 2,\n",
    "                label='constraint_1', condition=lambda x: x == 0) * lagrange  # First constraint\n"
   ],
   "metadata": {
    "colab": {
     "base_uri": "https://localhost:8080/"
    },
    "id": "wC9aIqQb4CuH",
    "outputId": "3e0ee348-151d-4601-c34e-2444f377313d",
    "ExecuteTime": {
     "end_time": "2023-07-23T10:02:24.711788600Z",
     "start_time": "2023-07-23T10:02:22.535773100Z"
    }
   },
   "execution_count": 6,
   "outputs": [
    {
     "name": "stdout",
     "output_type": "stream",
     "text": [
      "data/BVZ-tsukuba8.max\n",
      "62914\n"
     ]
    }
   ]
  },
  {
   "cell_type": "code",
   "execution_count": 7,
   "outputs": [
    {
     "data": {
      "text/plain": "(Binary('a') + Binary('b'))"
     },
     "execution_count": 7,
     "metadata": {},
     "output_type": "execute_result"
    }
   ],
   "source": [
    "from pyqubo import Binary\n",
    "a, b = Binary(\"a\"), Binary(\"b\")\n",
    "a + b\n"
   ],
   "metadata": {
    "collapsed": false,
    "ExecuteTime": {
     "end_time": "2023-07-23T10:02:28.760952300Z",
     "start_time": "2023-07-23T10:02:28.683931Z"
    }
   }
  },
  {
   "cell_type": "code",
   "source": [
    "from tqdm import tqdm\n",
    "\n",
    "# for y_count, (i, j, cap) in tqdm(enumerate(graph.edges(data=True))):\n",
    "#     obj = obj + (Binary(f'omega_{i}_{j}') * cap['capacity']) # Obj function\n",
    "#     obj = obj + Constraint(\n",
    "#         (Binary(f'pi_{i}') - Binary(f'pi_{j}') + Binary(f'omega_{i}_{j}') -\n",
    "#           (Binary(f'y_2^0-{y_count}') + 2 * Binary(f'y_2^1-{y_count}'))) ** 2,\n",
    "#         label='constraint_2', condition=lambda x: x == 0\n",
    "#     ) * lagrange  # Second constraint\n",
    "\n",
    "print(\"ciccino\")\n",
    "\n",
    "bqm = obj.compile().to_bqm(feed_dict={'L': 15})\n",
    "time_before_starting_annealer = time.time() - start_time\n",
    "\n",
    "'''sampler = LeapHybridSampler(solver={'category': 'hybrid'}, token='DEV-6dda84212a7a7699b2236b18c96b2561c83b29b1')\n",
    "res = sampler.sample(bqm, time_limit=56)\n",
    "\n",
    "q_cut = res.first\n",
    "q_mxflow = get_max_flow_from_cut_edges(graph, q_cut, 'omega')\n",
    "q_time = time.time() - start_time\n",
    "print(f'{time_before_starting_annealer=}')\n",
    "print(f'{q_time=}')\n",
    "print(f'{q_mxflow=}')\n",
    "print('qpu_access_time', res.info['qpu_access_time'])'''"
   ],
   "metadata": {
    "id": "rXJEmjN3epzG",
    "is_executing": true,
    "ExecuteTime": {
     "start_time": "2023-07-23T10:02:31.741584900Z"
    }
   },
   "execution_count": null,
   "outputs": [
    {
     "name": "stderr",
     "output_type": "stream",
     "text": [
      "62914it [00:03, 20866.90it/s]"
     ]
    }
   ]
  },
  {
   "cell_type": "code",
   "source": [
    "import numpy as np\n",
    "xx = [1, 100, 1000]\n",
    "yy = [0.1, 10., 20.]\n",
    "np.interp([50], xx, yy)[0]"
   ],
   "metadata": {
    "id": "04cfm0ReAJSv",
    "colab": {
     "base_uri": "https://localhost:8080/"
    },
    "outputId": "aa2e2067-21bb-42ea-c92b-6ff4853ce450"
   },
   "execution_count": null,
   "outputs": []
  },
  {
   "cell_type": "code",
   "source": [
    "paths = []\n",
    "import os\n",
    "\n",
    "os.getcwd()\n",
    "for path, subdirs, files in os.walk('data/'):\n",
    "    paths.extend(os.path.join(path, name) for name in files if fnmatch(name, '*.max'))\n",
    "\n",
    "graph_path = paths[10]\n",
    "\n",
    "print(graph_path)\n",
    "graph, source, target = load_graph(graph_path, 0.99)\n",
    "print(len(graph.edges()))\n",
    "start_time = time.time()\n",
    "# lagrange = Placeholder('L')\n",
    "# obj = 0\n",
    "# omega_vars = {(i, j): Binary(f'omega_{i}_{j}') for i, j in graph.edges}\n",
    "# pi_vars = {n: Binary(f'pi_{n}') for n in graph.nodes}\n",
    "# obj = Constraint((Binary(f'pi_{target}') - Binary(f'pi_{source}') - 1) ** 2,\n",
    "#                 label='constraint_1', condition=lambda x: x == 0) * lagrange  # First constraint\n",
    "from dimod import BinaryQuadraticModel, Binary, Integer\n",
    "import dwavebinarycsp\n",
    "\n",
    "# fill with obj\n",
    "linear = {f'omega_{i}_{j}' : cap[\"capacity\"] for i, j ,cap in graph.edges(data=True)}\n",
    "\n",
    "# fill with second constraints\n",
    "quadratic = {}\n",
    "for y_count, (i, j, cap) in tqdm(enumerate(graph.edges(data=True))):\n",
    "    quadratic[f'pi_{i}**2'] = 1\n",
    "    quadratic[f'pi_{j}**2'] = 1\n",
    "    quadratic[f'omega{i}_{j}**2'] = 1\n",
    "    quadratic[f'y_0_{y_count}**2'] = 1\n",
    "    quadratic[f'y_1_{y_count}**2'] = 4\n",
    "    quadratic[f'pi{i}*pi_{j}'] = -2\n",
    "    quadratic[f'pi_{i}*omega_{i}_{j}'] = 2\n",
    "    quadratic[f'pi_{i}*y_0_{y_count}'] = -2\n",
    "    quadratic[f'pi_{i}*y_1_{y_count}'] = -4\n",
    "    quadratic[f'pi_{j}*omega_{i}_{j}'] = -2\n",
    "    quadratic[f'pi_{j}*y_0_{y_count}'] = 2\n",
    "    quadratic[f'pi_{j}*y_1_{y_count}'] = 4\n",
    "    quadratic[f'omega_{i}_{j}*y_0_{y_count}'] = -2\n",
    "    quadratic[f'omega_{i}_{j}*y_1_{y_count}'] = -4\n",
    "    quadratic[f'y_0_{y_count}*y_1_{y_count}'] = 4\n",
    "\n",
    "# fill with first constraint\n",
    "quadratic[f'pi_{target}**2'] = 1\n",
    "quadratic[f'pi_{source}**2'] = 1\n",
    "quadratic[f'pi_{target}_{source}'] = 2\n",
    "linear[f'pi_{target}'] = -2\n",
    "linear[f'pi_{source}'] = 2\n",
    "\n",
    "bqm = BinaryQuadraticModel(linear, quadratic, -1, Binary)"
   ],
   "metadata": {
    "id": "uduNuZk5vh2y"
   },
   "execution_count": null,
   "outputs": []
  }
 ]
}
